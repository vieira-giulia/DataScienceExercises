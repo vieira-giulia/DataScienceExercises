{
 "cells": [
  {
   "cell_type": "markdown",
   "metadata": {
    "id": "p5LNqRQ0U6PT"
   },
   "source": [
    "# Lista 02 - Pandas Básico\n",
    "\n",
    "Uma parte significativa do trabalho de um cientista de dados é explorar, analisar e visualizar dados. Há uma grande variedade de ferramentas e linguagens de programação que eles podem usar para fazer isso, e uma das abordagens mais populares é usar notebooks Jupyter (como este) e Python.\n",
    "\n",
    "Neste notebook, vamos explorar o pacote [Pandas](http://pandas.pydata.org) e o [Matplotlib](http://matplotlib.org). Também aplicaremos técnicas básicas para analisar dados. Este notebook não é um exercício de programação Python abrangente; ou até mesmo um mergulho profundo na análise de dados. Em vez disso, pretende ser um curso intensivo sobre algumas das maneiras comuns em que os cientistas de dados podem usar Python para explorar com dados. \n",
    "\n",
    "## Imports Básicos\n",
    "\n",
    "As três células abaixo apenas configuram nosso notebook para ficar mais parecido com os das aulas"
   ]
  },
  {
   "cell_type": "code",
   "execution_count": 1,
   "metadata": {
    "id": "BA43J72XU6PX"
   },
   "outputs": [],
   "source": [
    "import numpy as np\n",
    "import matplotlib.pyplot as plt\n",
    "import pandas as pd"
   ]
  },
  {
   "cell_type": "code",
   "execution_count": 2,
   "metadata": {
    "id": "V4n0MteMU6PY"
   },
   "outputs": [],
   "source": [
    "plt.rcParams['figure.figsize']  = (16, 10)\n",
    "plt.rcParams['axes.labelsize']  = 20\n",
    "plt.rcParams['axes.titlesize']  = 20\n",
    "plt.rcParams['legend.fontsize'] = 20\n",
    "plt.rcParams['xtick.labelsize'] = 20\n",
    "plt.rcParams['ytick.labelsize'] = 20\n",
    "plt.rcParams['lines.linewidth'] = 4"
   ]
  },
  {
   "cell_type": "code",
   "execution_count": 3,
   "metadata": {
    "id": "eC-Wr8NlU6PY"
   },
   "outputs": [],
   "source": [
    "plt.ion()\n",
    "plt.style.use('seaborn-colorblind')"
   ]
  },
  {
   "cell_type": "markdown",
   "metadata": {
    "id": "HwRSqlfcU6PY"
   },
   "source": [
    "## NumPy Novamente\n",
    "\n",
    "Vamos começar examinando alguns dados simples.\n",
    "\n",
    "Em determinadas épocas do ano a venda de certos produtos sofre um aumento significativo. Um exemplo disso, são as vendas de sorvete que aumentam bastante no verão. Além do sorvete, outros itens como protetor solar e vestuário de banho podem ganhar maior atenção durante essa época do ano enquanto outros produtos podem não ser tão valorizados.\n",
    "\n",
    "Inicialmente, vamos criar alguns dadoos de vendas de sorvete."
   ]
  },
  {
   "cell_type": "code",
   "execution_count": 4,
   "metadata": {
    "id": "t5uiByqgU6PZ"
   },
   "outputs": [
    {
     "name": "stdout",
     "output_type": "stream",
     "text": [
      "[3000, 2600, 1400, 1500, 1200, 500, 300, 400, 700, 600, 800, 1900]\n"
     ]
    }
   ],
   "source": [
    "ice_cream = [3000, 2600, 1400, 1500, 1200, 500, 300, 400, 700, 600, 800, 1900]\n",
    "print(ice_cream)"
   ]
  },
  {
   "cell_type": "markdown",
   "metadata": {
    "id": "hHThCCiCU6PZ"
   },
   "source": [
    "Os dados foram carregados em um TAD **list**. Como falamos no último laboratório, listas não são otimizadas para análise numérica. Para isso, vamos usar o pacote **NumPy** novamente. Então, vamos criar um vetor Numpy dos dados!"
   ]
  },
  {
   "cell_type": "code",
   "execution_count": 5,
   "metadata": {
    "id": "B4J3g7JlU6PZ"
   },
   "outputs": [
    {
     "name": "stdout",
     "output_type": "stream",
     "text": [
      "[3000 2600 1400 1500 1200  500  300  400  700  600  800 1900]\n"
     ]
    }
   ],
   "source": [
    "ice_cream_v = np.array(ice_cream)\n",
    "print(ice_cream_v)"
   ]
  },
  {
   "cell_type": "markdown",
   "metadata": {
    "id": "IVe2nZRfU6PZ"
   },
   "source": [
    "Caso você ainda esteja se perguntando sobre as diferenças entre uma **list** e uma **array numpy (np.array)**, vamos comparar como esses tipos de dados se comportam quando os usamos em uma expressão que os multiplica por 2. "
   ]
  },
  {
   "cell_type": "code",
   "execution_count": 6,
   "metadata": {
    "id": "SzuYQpMNU6PZ"
   },
   "outputs": [
    {
     "name": "stdout",
     "output_type": "stream",
     "text": [
      "<class 'list'> x 2: [3000, 2600, 1400, 1500, 1200, 500, 300, 400, 700, 600, 800, 1900, 3000, 2600, 1400, 1500, 1200, 500, 300, 400, 700, 600, 800, 1900]\n",
      "---\n",
      "<class 'numpy.ndarray'> x 2: [6000 5200 2800 3000 2400 1000  600  800 1400 1200 1600 3800]\n"
     ]
    }
   ],
   "source": [
    "print (type(ice_cream),'x 2:', ice_cream * 2)\n",
    "print('---')\n",
    "print (type(ice_cream_v),'x 2:', ice_cream_v * 2)"
   ]
  },
  {
   "cell_type": "markdown",
   "metadata": {
    "id": "YSHPbjFuU6Pa"
   },
   "source": [
    "Observe que multiplicar uma lista por 2 cria uma nova lista com o dobro do comprimento e a sequência original de elementos da lista repetida. Multiplicar um array NumPy, por outro lado, realiza um cálculo elementar no qual o array se comporta como um *vetor*. Terminamos com um array do mesmo tamanho no qual cada elemento foi multiplicado por 2.\n",
    "\n",
    "A principal conclusão disso é que os arrays NumPy são projetados especificamente para suportar operações matemáticas em dados numéricos. "
   ]
  },
  {
   "cell_type": "code",
   "execution_count": 7,
   "metadata": {
    "id": "e5FMVHDQU6Pa"
   },
   "outputs": [
    {
     "data": {
      "text/plain": [
       "1000.0"
      ]
     },
     "execution_count": 7,
     "metadata": {},
     "output_type": "execute_result"
    }
   ],
   "source": [
    "np.median(ice_cream_v)"
   ]
  },
  {
   "cell_type": "markdown",
   "metadata": {
    "id": "JL2v53oLU6Pa"
   },
   "source": [
    "### Exercício 01\n",
    "\n",
    "Altere a função abaixo para retornar a mediana do valor dos sortvetes e o número de elementos no array."
   ]
  },
  {
   "cell_type": "code",
   "execution_count": 14,
   "metadata": {
    "id": "TA-O79GMU6Pa"
   },
   "outputs": [],
   "source": [
    "def median_and_size(array):\n",
    "    return (np.median(array), np.size(array))"
   ]
  },
  {
   "cell_type": "markdown",
   "metadata": {
    "id": "7y_QOYgwU6Pa"
   },
   "source": [
    "Novamente, vanos carregar os módulos de testes"
   ]
  },
  {
   "cell_type": "code",
   "execution_count": 15,
   "metadata": {
    "id": "4hEpvS2LU6Pb"
   },
   "outputs": [],
   "source": [
    "from numpy.testing import assert_almost_equal\n",
    "from numpy.testing import assert_equal\n",
    "\n",
    "from numpy.testing import assert_array_almost_equal\n",
    "from numpy.testing import assert_array_equal"
   ]
  },
  {
   "cell_type": "markdown",
   "metadata": {
    "id": "Skw8ZZIsU6Pb"
   },
   "source": [
    "Nosso teste"
   ]
  },
  {
   "cell_type": "code",
   "execution_count": 16,
   "metadata": {
    "id": "l_xzm59bU6Pb"
   },
   "outputs": [],
   "source": [
    "median, size = median_and_size(ice_cream_v)\n",
    "assert_equal(1000, median)\n",
    "assert_equal(12, size)"
   ]
  },
  {
   "cell_type": "code",
   "execution_count": 17,
   "metadata": {
    "id": "JP2n0SgIU6Pb"
   },
   "outputs": [
    {
     "data": {
      "text/plain": [
       "12"
      ]
     },
     "execution_count": 17,
     "metadata": {},
     "output_type": "execute_result"
    }
   ],
   "source": [
    "len(ice_cream_v)"
   ]
  },
  {
   "cell_type": "markdown",
   "metadata": {
    "id": "HaCs3VwoU6Pb"
   },
   "source": [
    "## Pandas"
   ]
  },
  {
   "cell_type": "markdown",
   "metadata": {
    "id": "rF9v6OFHU6Pb"
   },
   "source": [
    "Embora o NumPy forneça muitas das funcionalidades de que você precisa para trabalhar com números, quando você começa a lidar com tabelas de dados bidimensionais, o pacote Pandas oferece uma estrutura mais conveniente para trabalhar - o DataFrame.\n",
    "\n",
    "Agora, vamos criar alguns dados de vendas de outros produtos. Além do mais, vamos criar um array de meses."
   ]
  },
  {
   "cell_type": "code",
   "execution_count": 18,
   "metadata": {
    "id": "jCmhRrrXU6Pc"
   },
   "outputs": [],
   "source": [
    "ice_cream = np.array([3000, 2600, 1400, 1500, 1200, 500, 300, 400, 700, 600, 800, 1900])\n",
    "sunglasses = np.array([1000, 800, 100, 70, 50, 190, 60, 50, 100, 120, 130, 900])\n",
    "coats = np.array([10, 20, 80, 120, 100, 500, 900, 780, 360, 100, 120, 20])\n",
    "labels = np.array([\"Jan\", \"Fev\", \"Mar\", \"Abr\", \"Mai\", \"Jun\", \"Jul\", \"Ago\", \"Set\", \"Out\", \"Nov\", \"Dez\"])"
   ]
  },
  {
   "cell_type": "markdown",
   "metadata": {
    "id": "PtiQ6fYJU6Pc"
   },
   "source": [
    "O código abaixo cria um DataFrame na mão. É mais comum ler dados de arquivos. Porém, neste laboratório inicial, vamos usar um DataFrame com a pequna base de dados acima. A tabela vai ser da seguinte forma:\n",
    "\n",
    "```\n",
    "       icecream   sunglasses   coats\n",
    "------------------------------------\n",
    "Jan     3000        1000        10\n",
    "Fev     2600        800         20\n",
    "...     ...         ...        ...\n",
    "Dez     1900        900         20\n",
    "```\n",
    "\n",
    "Observe que, além das colunas que você especificou, o DataFrame inclui um índice para identificar cada linha de forma exclusiva."
   ]
  },
  {
   "cell_type": "code",
   "execution_count": 19,
   "metadata": {
    "id": "km_0Fi31U6Pc"
   },
   "outputs": [],
   "source": [
    "df = pd.DataFrame({'icecream': ice_cream,      # coluna 0\n",
    "                   'sunglasses': sunglasses,   # coluna 1\n",
    "                   'coats': coats},            # coluna 2\n",
    "                   index=labels)"
   ]
  },
  {
   "cell_type": "markdown",
   "metadata": {
    "id": "ea__SAa_U6Pc"
   },
   "source": [
    "A chamada head mostra as 5 primeiras linhas do DataFrame. "
   ]
  },
  {
   "cell_type": "code",
   "execution_count": 20,
   "metadata": {
    "id": "leScIcJdU6Pc"
   },
   "outputs": [
    {
     "data": {
      "text/html": [
       "<div>\n",
       "<style scoped>\n",
       "    .dataframe tbody tr th:only-of-type {\n",
       "        vertical-align: middle;\n",
       "    }\n",
       "\n",
       "    .dataframe tbody tr th {\n",
       "        vertical-align: top;\n",
       "    }\n",
       "\n",
       "    .dataframe thead th {\n",
       "        text-align: right;\n",
       "    }\n",
       "</style>\n",
       "<table border=\"1\" class=\"dataframe\">\n",
       "  <thead>\n",
       "    <tr style=\"text-align: right;\">\n",
       "      <th></th>\n",
       "      <th>icecream</th>\n",
       "      <th>sunglasses</th>\n",
       "      <th>coats</th>\n",
       "    </tr>\n",
       "  </thead>\n",
       "  <tbody>\n",
       "    <tr>\n",
       "      <th>Jan</th>\n",
       "      <td>3000</td>\n",
       "      <td>1000</td>\n",
       "      <td>10</td>\n",
       "    </tr>\n",
       "    <tr>\n",
       "      <th>Fev</th>\n",
       "      <td>2600</td>\n",
       "      <td>800</td>\n",
       "      <td>20</td>\n",
       "    </tr>\n",
       "    <tr>\n",
       "      <th>Mar</th>\n",
       "      <td>1400</td>\n",
       "      <td>100</td>\n",
       "      <td>80</td>\n",
       "    </tr>\n",
       "    <tr>\n",
       "      <th>Abr</th>\n",
       "      <td>1500</td>\n",
       "      <td>70</td>\n",
       "      <td>120</td>\n",
       "    </tr>\n",
       "    <tr>\n",
       "      <th>Mai</th>\n",
       "      <td>1200</td>\n",
       "      <td>50</td>\n",
       "      <td>100</td>\n",
       "    </tr>\n",
       "  </tbody>\n",
       "</table>\n",
       "</div>"
      ],
      "text/plain": [
       "     icecream  sunglasses  coats\n",
       "Jan      3000        1000     10\n",
       "Fev      2600         800     20\n",
       "Mar      1400         100     80\n",
       "Abr      1500          70    120\n",
       "Mai      1200          50    100"
      ]
     },
     "execution_count": 20,
     "metadata": {},
     "output_type": "execute_result"
    }
   ],
   "source": [
    "df.head()"
   ]
  },
  {
   "cell_type": "markdown",
   "metadata": {
    "id": "AhBvM4oOU6Pc"
   },
   "source": [
    "### Exercício 02\n",
    "\n",
    "Lembre-se da sala de aula que pandas contém chamadas `loc` e `iloc` para acessar o índice. Sabendo disto, implemente a função abaixo que retorna a quantidade de vendas em um dado mês na forma de `string`. A sua função deve retorna uma Series do pandas. Por exemplo, segue a saída esperada para 'Jan'.\n",
    "\n",
    "```python\n",
    "month_sales(df, 'Jan')\n",
    "```\n",
    "\n",
    "```\n",
    "icecream      3000\n",
    "sunglasses    1000\n",
    "coats           10\n",
    "Name: Jan, dtype: int64\n",
    "```"
   ]
  },
  {
   "cell_type": "code",
   "execution_count": 29,
   "metadata": {
    "id": "ET9hKXIOU6Pd"
   },
   "outputs": [],
   "source": [
    "def month_sales(df, month: str):\n",
    "    return df.loc['Jan']"
   ]
  },
  {
   "cell_type": "code",
   "execution_count": 32,
   "metadata": {
    "id": "c_-BPOLhU6Pd"
   },
   "outputs": [],
   "source": [
    "series = month_sales(df, 'Jan')\n",
    "assert_equal(3000, series.loc['icecream'])\n",
    "assert_equal(1000, series.loc['sunglasses'])\n",
    "assert_equal(10, series.loc['coats'])"
   ]
  },
  {
   "cell_type": "markdown",
   "metadata": {
    "id": "t5IjPEW5U6Pd"
   },
   "source": [
    "series = month_sales(df, 'Jan')\n",
    "assert_equal(3000, series.loc['icecream'])\n",
    "assert_equal(1000, series.loc['sunglasses'])\n",
    "assert_equal(10, series.loc['coats'])"
   ]
  },
  {
   "cell_type": "markdown",
   "metadata": {
    "id": "_BSI8HA5U6Pd"
   },
   "source": [
    "### Exercício 03\n",
    "\n",
    "Agora, implemente uma função que retorna uma linha do DataFrame via um inteiro."
   ]
  },
  {
   "cell_type": "code",
   "execution_count": 35,
   "metadata": {
    "id": "sx7DFem3U6Pd"
   },
   "outputs": [],
   "source": [
    "def row_sales(df, row: int):\n",
    "    return df.iloc[row]"
   ]
  },
  {
   "cell_type": "code",
   "execution_count": 38,
   "metadata": {
    "id": "fRZeTiYwU6Pd"
   },
   "outputs": [],
   "source": [
    "series = row_sales(df, 0)\n",
    "assert_equal(3000, series.loc['icecream'])\n",
    "assert_equal(1000, series.loc['sunglasses'])\n",
    "assert_equal(10, series.loc['coats'])"
   ]
  },
  {
   "cell_type": "markdown",
   "metadata": {
    "id": "5f0cCtYSU6Pe"
   },
   "source": [
    "### Exercício 04 (Sem correção Automática)\n",
    "\n",
    "Agora, faça um gráfico estilo o abaixo para entender a venda de produtos ao longo dos meses. Esta tarefa não tem correção automática, use o gráfico abaixo para saber se acertou ou não.\n",
    "\n",
    "Lembre-se que em Pandas os data frames contém um método [plot](https://pandas.pydata.org/pandas-docs/stable/reference/api/pandas.DataFrame.plot.html). Leia a documentação do mesmo caso necessário.\n",
    "\n",
    "![](https://raw.githubusercontent.com/icd-ufmg/icd-ufmg.github.io/master/listas/l2/plot1.png)"
   ]
  },
  {
   "cell_type": "code",
   "execution_count": 40,
   "metadata": {},
   "outputs": [
    {
     "data": {
      "text/plain": [
       "<AxesSubplot:>"
      ]
     },
     "execution_count": 40,
     "metadata": {},
     "output_type": "execute_result"
    },
    {
     "data": {
      "image/png": "[encoded data removed]",
      "text/plain": [
       "<Figure size 1152x720 with 1 Axes>"
      ]
     },
     "metadata": {
      "needs_background": "light"
     },
     "output_type": "display_data"
    }
   ],
   "source": [
    "df.plot.bar()"
   ]
  },
  {
   "cell_type": "markdown",
   "metadata": {
    "id": "G03LTXViU6Pe"
   },
   "source": [
    "### Exercício 05\n",
    "\n",
    "Agora, altere a função abaixo para retornar 'Norte' caso você acha ache que o país das vendas acima é do hemisfério norte. Retorne 'Sul' caso contraŕio."
   ]
  },
  {
   "cell_type": "code",
   "execution_count": 42,
   "metadata": {
    "id": "rn5Gs6eWU6Pe"
   },
   "outputs": [],
   "source": [
    "def north_or_south():\n",
    "    return 'Sul'"
   ]
  },
  {
   "cell_type": "markdown",
   "metadata": {
    "id": "47ppVumFU6Pf"
   },
   "source": [
    "### Exercício 06\n",
    "\n",
    "Por fim, crie um método que retorne as estatísticas agregadas. Seu método deve retornar um novo DataFrame do seguinte formato.\n",
    "\n",
    "```\n",
    "          icecream   sunglasses       coats\n",
    "count    12.000000    12.000000   12.000000\n",
    "mean   1241.666667   297.500000  259.166667\n",
    "std     879.522942   367.896354  308.676304\n",
    "min     300.000000    50.000000   10.000000\n",
    "25%     575.000000    67.500000   65.000000\n",
    "50%    1000.000000   110.000000  110.000000\n",
    "75%    1600.000000   342.500000  395.000000\n",
    "max    3000.000000  1000.000000  900.000000\n",
    "```\n",
    "\n",
    "Uma única chamada Pandas resolve este problema!"
   ]
  },
  {
   "cell_type": "code",
   "execution_count": 99,
   "metadata": {
    "id": "HnKmXaCqU6Pf"
   },
   "outputs": [],
   "source": [
    "def questao6(df):\n",
    "    keys = ['icecream', 'sunglasses', 'coats']\n",
    "    new_df = pd.DataFrame()\n",
    "    for key in keys:\n",
    "        column = df[key]\n",
    "        new_df[key] = [column.count(), column.mean(), column.std(), column.min(), column.quantile(.25), column.quantile(.5), column.quantile(.75), column.max()]\n",
    "    new_df.index = ['count', 'mean', 'std', 'min', '25%', '50%', '75%', 'max']\n",
    "    return new_df"
   ]
  },
  {
   "cell_type": "code",
   "execution_count": 100,
   "metadata": {},
   "outputs": [
    {
     "data": {
      "text/html": [
       "<div>\n",
       "<style scoped>\n",
       "    .dataframe tbody tr th:only-of-type {\n",
       "        vertical-align: middle;\n",
       "    }\n",
       "\n",
       "    .dataframe tbody tr th {\n",
       "        vertical-align: top;\n",
       "    }\n",
       "\n",
       "    .dataframe thead th {\n",
       "        text-align: right;\n",
       "    }\n",
       "</style>\n",
       "<table border=\"1\" class=\"dataframe\">\n",
       "  <thead>\n",
       "    <tr style=\"text-align: right;\">\n",
       "      <th></th>\n",
       "      <th>icecream</th>\n",
       "      <th>sunglasses</th>\n",
       "      <th>coats</th>\n",
       "    </tr>\n",
       "  </thead>\n",
       "  <tbody>\n",
       "    <tr>\n",
       "      <th>count</th>\n",
       "      <td>12.000000</td>\n",
       "      <td>12.000000</td>\n",
       "      <td>12.000000</td>\n",
       "    </tr>\n",
       "    <tr>\n",
       "      <th>mean</th>\n",
       "      <td>1241.666667</td>\n",
       "      <td>297.500000</td>\n",
       "      <td>259.166667</td>\n",
       "    </tr>\n",
       "    <tr>\n",
       "      <th>std</th>\n",
       "      <td>879.522942</td>\n",
       "      <td>367.896354</td>\n",
       "      <td>308.676304</td>\n",
       "    </tr>\n",
       "    <tr>\n",
       "      <th>min</th>\n",
       "      <td>300.000000</td>\n",
       "      <td>50.000000</td>\n",
       "      <td>10.000000</td>\n",
       "    </tr>\n",
       "    <tr>\n",
       "      <th>25%</th>\n",
       "      <td>575.000000</td>\n",
       "      <td>67.500000</td>\n",
       "      <td>65.000000</td>\n",
       "    </tr>\n",
       "    <tr>\n",
       "      <th>50%</th>\n",
       "      <td>1000.000000</td>\n",
       "      <td>110.000000</td>\n",
       "      <td>110.000000</td>\n",
       "    </tr>\n",
       "    <tr>\n",
       "      <th>75%</th>\n",
       "      <td>1600.000000</td>\n",
       "      <td>342.500000</td>\n",
       "      <td>395.000000</td>\n",
       "    </tr>\n",
       "    <tr>\n",
       "      <th>max</th>\n",
       "      <td>3000.000000</td>\n",
       "      <td>1000.000000</td>\n",
       "      <td>900.000000</td>\n",
       "    </tr>\n",
       "  </tbody>\n",
       "</table>\n",
       "</div>"
      ],
      "text/plain": [
       "          icecream   sunglasses       coats\n",
       "count    12.000000    12.000000   12.000000\n",
       "mean   1241.666667   297.500000  259.166667\n",
       "std     879.522942   367.896354  308.676304\n",
       "min     300.000000    50.000000   10.000000\n",
       "25%     575.000000    67.500000   65.000000\n",
       "50%    1000.000000   110.000000  110.000000\n",
       "75%    1600.000000   342.500000  395.000000\n",
       "max    3000.000000  1000.000000  900.000000"
      ]
     },
     "execution_count": 100,
     "metadata": {},
     "output_type": "execute_result"
    }
   ],
   "source": [
    "questao6(df)"
   ]
  },
  {
   "cell_type": "markdown",
   "metadata": {
    "id": "GstMBOuSU6Pg"
   },
   "source": [
    "## Arquivos\n",
    "\n",
    "É bem mais comum fazer uso de DataFrames que já existem em arquivos. Note que o trabalho do cientista de dados nem sempre vai ter tais arquivos prontos. Em várias ocasiões, você vai ter que coletar e organizar os mesmos. Limpeza e coleta de dados é uma parte fundamental do seu trabalho. Durante a matéria, boa parte dos notebooks já vão ter dados prontos.\n",
    "\n",
    "Neste último exercício, vamos fazer uso dos dados de [John Snow](http://blog.rtwilson.com/john-snows-cholera-data-in-more-formats/). Os dados já foram limpos para a tarefa."
   ]
  },
  {
   "cell_type": "code",
   "execution_count": 101,
   "metadata": {
    "id": "WpMXwrMVU6Pg"
   },
   "outputs": [
    {
     "data": {
      "text/html": [
       "<div>\n",
       "<style scoped>\n",
       "    .dataframe tbody tr th:only-of-type {\n",
       "        vertical-align: middle;\n",
       "    }\n",
       "\n",
       "    .dataframe tbody tr th {\n",
       "        vertical-align: top;\n",
       "    }\n",
       "\n",
       "    .dataframe thead th {\n",
       "        text-align: right;\n",
       "    }\n",
       "</style>\n",
       "<table border=\"1\" class=\"dataframe\">\n",
       "  <thead>\n",
       "    <tr style=\"text-align: right;\">\n",
       "      <th></th>\n",
       "      <th>Count</th>\n",
       "      <th>geometry</th>\n",
       "      <th>NearestPumpID</th>\n",
       "    </tr>\n",
       "  </thead>\n",
       "  <tbody>\n",
       "    <tr>\n",
       "      <th>0</th>\n",
       "      <td>3</td>\n",
       "      <td>POINT (529308.7414200425 181031.3515464273)</td>\n",
       "      <td>0</td>\n",
       "    </tr>\n",
       "    <tr>\n",
       "      <th>1</th>\n",
       "      <td>2</td>\n",
       "      <td>POINT (529312.163571333 181025.1724011325)</td>\n",
       "      <td>0</td>\n",
       "    </tr>\n",
       "    <tr>\n",
       "      <th>2</th>\n",
       "      <td>1</td>\n",
       "      <td>POINT (529314.3824294576 181020.2936884186)</td>\n",
       "      <td>0</td>\n",
       "    </tr>\n",
       "    <tr>\n",
       "      <th>3</th>\n",
       "      <td>1</td>\n",
       "      <td>POINT (529317.3796448297 181014.2587706869)</td>\n",
       "      <td>0</td>\n",
       "    </tr>\n",
       "    <tr>\n",
       "      <th>4</th>\n",
       "      <td>4</td>\n",
       "      <td>POINT (529320.6754489439 181007.8716281414)</td>\n",
       "      <td>0</td>\n",
       "    </tr>\n",
       "  </tbody>\n",
       "</table>\n",
       "</div>"
      ],
      "text/plain": [
       "   Count                                     geometry  NearestPumpID\n",
       "0      3  POINT (529308.7414200425 181031.3515464273)              0\n",
       "1      2   POINT (529312.163571333 181025.1724011325)              0\n",
       "2      1  POINT (529314.3824294576 181020.2936884186)              0\n",
       "3      1  POINT (529317.3796448297 181014.2587706869)              0\n",
       "4      4  POINT (529320.6754489439 181007.8716281414)              0"
      ]
     },
     "execution_count": 101,
     "metadata": {},
     "output_type": "execute_result"
    }
   ],
   "source": [
    "df = pd.read_csv('https://raw.githubusercontent.com/icd-ufmg/icd-ufmg.github.io/master/listas/l2/snow.csv')\n",
    "df.head()"
   ]
  },
  {
   "cell_type": "markdown",
   "metadata": {
    "id": "OSoZbVpNU6Pg"
   },
   "source": [
    "A coluna Count indica o número de mortes em uma casa. A NearestPumpID indica qual bomba d'água é a mais próxima da casa. Os dados não vão bater com os da aula, pois eu não sabia exatamente onde cada casa pegava água. Apenas assumi ser no local mais próximo!"
   ]
  },
  {
   "cell_type": "markdown",
   "metadata": {
    "id": "faZKLsSCU6Pg"
   },
   "source": [
    "## Groupby\n",
    "\n",
    "Vamos responder uma pergunta com a função groupby. Lembrando a ideia é separar os dados com base em valores comuns, ou seja, agrupar por nomes e realizar alguma operação. O comando abaixo agrupa todos os recem-náscidos por nome. Imagine a mesma fazendo uma operação equivalente ao laço abaixo:\n",
    "\n",
    "```python\n",
    "buckets = {}                    # Mapa de dados\n",
    "names = set(df['Name'])         # Conjunto de nomes únicos\n",
    "for idx, row in df.iterrows():  # Para cada linha dos dados\n",
    "    name = row['Name']\n",
    "    if name not in buckets:\n",
    "        buckets[name] = []      # Uma lista para cada nome\n",
    "    buckets[name].append(row)   # Separa a linha para cada nome\n",
    "```\n",
    "O código acima é bastante lento!!! O groupby é optimizado. Com base na linha abaixo, o mesmo nem retorna nehum resultado ainda. Apenas um objeto onde podemos fazer agregações."
   ]
  },
  {
   "cell_type": "markdown",
   "metadata": {
    "id": "C9kKQ3y6U6Ph"
   },
   "source": [
    "### Exercício 07\n",
    "\n",
    "Implemente uma função que retorna a quantidade de mortes para cada bomba. Use o `groupby`."
   ]
  },
  {
   "cell_type": "code",
   "execution_count": 121,
   "metadata": {
    "id": "txPzXJyhU6Ph"
   },
   "outputs": [],
   "source": [
    "def mortes_por_pump(df):\n",
    "    return df.groupby('NearestPumpID').count()['Count']"
   ]
  },
  {
   "cell_type": "code",
   "execution_count": 122,
   "metadata": {
    "id": "DcA1TSX7U6Ph"
   },
   "outputs": [
    {
     "data": {
      "text/plain": [
       "NearestPumpID\n",
       "0    171\n",
       "1     36\n",
       "2      2\n",
       "4     19\n",
       "5     13\n",
       "7      9\n",
       "Name: Count, dtype: int64"
      ]
     },
     "execution_count": 122,
     "metadata": {},
     "output_type": "execute_result"
    }
   ],
   "source": [
    "mortes_por_pump(df)"
   ]
  }
 ],
 "metadata": {
  "colab": {
   "name": "dcc212l2.ipynb",
   "provenance": []
  },
  "kernelspec": {
   "display_name": "Python 3",
   "language": "python",
   "name": "python3"
  },
  "language_info": {
   "codemirror_mode": {
    "name": "ipython",
    "version": 3
   },
   "file_extension": ".py",
   "mimetype": "text/x-python",
   "name": "python",
   "nbconvert_exporter": "python",
   "pygments_lexer": "ipython3",
   "version": "3.8.8"
  }
 },
 "nbformat": 4,
 "nbformat_minor": 1
}
