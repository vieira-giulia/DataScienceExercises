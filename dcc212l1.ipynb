{
 "cells": [
  {
   "cell_type": "markdown",
   "metadata": {
    "id": "9HEgxcMXSqGG"
   },
   "source": [
    "# Lista 01 - Introdução e Revisão Numpy\n",
    "\n",
    "[NumPy](http://numpy.org) é um pacote incrivelmente poderoso em Python, onipresente em qualquer projeto de ciência de dados. Possui forte integração com o [Pandas](http://pandas.pydata.org), outra ferramenta que iremos abordar na matéria. NumPy adiciona suporte para matrizes multidimensionais e funções matemáticas que permitem que você execute facilmente cálculos de álgebra linear. Este notebook será uma coleção de exemplos de álgebra linear computados usando NumPy. \n",
    "\n",
    "## Numpy \n",
    "\n",
    "Para fazer uso de Numpy precisamos importar a biblioteca"
   ]
  },
  {
   "cell_type": "code",
   "execution_count": 2,
   "metadata": {
    "id": "hxGUeAAGSqGJ"
   },
   "outputs": [],
   "source": [
    "# -*- coding: utf8\n",
    "\n",
    "import numpy as np"
   ]
  },
  {
   "cell_type": "markdown",
   "metadata": {
    "id": "vWkfNlnmSqGK"
   },
   "source": [
    "Quando pensamos no lado prático de ciência de dados, um aspecto chave que ajuda na implementação de novos algoritmos é a vetorização. De forma simples, vetorização consiste do uso de tipos como **escalar**, **vetor** e **matriz** para realizar uma computação mais eficaz (em tempo de execução).\n",
    "\n",
    "Uma matriz é uma coleção de valores, normalmente representada por uma grade 𝑚 × 𝑛, onde 𝑚 é o número de linhas e 𝑛 é o número de colunas. Os comprimentos das arestas 𝑚 e 𝑛 não precisam ser necessariamente diferentes. Se tivermos 𝑚 = 𝑛, chamamos isso de matriz quadrada. Um caso particularmente interessante de uma matriz é quando 𝑚 = 1 ou 𝑛 = 1. Nesse caso, temos um caso especial de uma matriz que chamamos de vetor. Embora haja um objeto de matriz em NumPy, faremos tudo usando matrizes NumPy porque elas podem ter dimensões maiores que 2. \n",
    "\n",
    "1. **Escalar:** Um vetor de zero dimensões"
   ]
  },
  {
   "cell_type": "code",
   "execution_count": 3,
   "metadata": {
    "id": "5vqKoHowSqGK",
    "outputId": "e98b1d7a-8601-492d-c860-9fe58e55b058"
   },
   "outputs": [
    {
     "data": {
      "text/plain": [
       "1"
      ]
     },
     "execution_count": 3,
     "metadata": {},
     "output_type": "execute_result"
    }
   ],
   "source": [
    "1"
   ]
  },
  {
   "cell_type": "markdown",
   "metadata": {
    "id": "11Zt7KlvSqGK"
   },
   "source": [
    "2. **Vetor:** Representa uma dimensão"
   ]
  },
  {
   "cell_type": "markdown",
   "metadata": {
    "id": "_0bw98YISqGL"
   },
   "source": [
    "Abaixo vamos criar um vetor simples. Inicialmente, vamos criar uma lista."
   ]
  },
  {
   "cell_type": "code",
   "execution_count": 4,
   "metadata": {
    "id": "yf-NEFsDSqGL"
   },
   "outputs": [],
   "source": [
    "data_list = [3.5, 5, 2, 8, 4.2]"
   ]
  },
  {
   "cell_type": "markdown",
   "metadata": {
    "id": "ltWsuDbmSqGL"
   },
   "source": [
    "Observe o tipo da mesma."
   ]
  },
  {
   "cell_type": "code",
   "execution_count": 5,
   "metadata": {
    "id": "ny0OB_O3SqGL",
    "outputId": "bfbeffc7-465b-4aa8-e83d-58d2e03d7b0b"
   },
   "outputs": [
    {
     "data": {
      "text/plain": [
       "list"
      ]
     },
     "execution_count": 5,
     "metadata": {},
     "output_type": "execute_result"
    }
   ],
   "source": [
    "type(data_list)"
   ]
  },
  {
   "cell_type": "markdown",
   "metadata": {
    "id": "6dVC1--SSqGL"
   },
   "source": [
    "Embora vetores e listas sejam parecidos, vetores Numpy são otimizados para operações de Álgebra Linear. Ciência de Dados faz bastante uso de tais operações, sendo este um dos motivos da dependência em Numpy.\n",
    "\n",
    "Abaixo criamos um vetor."
   ]
  },
  {
   "cell_type": "code",
   "execution_count": 6,
   "metadata": {
    "id": "vDX2EfERSqGL",
    "outputId": "4875159f-038e-4ed3-b64d-d51f20eccc8d"
   },
   "outputs": [
    {
     "name": "stdout",
     "output_type": "stream",
     "text": [
      "[3.5 5.  2.  8.  4.2]\n",
      "<class 'numpy.ndarray'>\n"
     ]
    }
   ],
   "source": [
    "data = np.array(data_list)\n",
    "print(data)\n",
    "print(type(data))"
   ]
  },
  {
   "cell_type": "markdown",
   "metadata": {
    "id": "hV_7_wZOSqGM"
   },
   "source": [
    "Observe como podemos somar o mesmo com um número. Não é possível fazer tal operação com listas."
   ]
  },
  {
   "cell_type": "code",
   "execution_count": 7,
   "metadata": {
    "id": "-DOHkNmbSqGM",
    "outputId": "048eea3e-5347-45ed-ddb4-980822b99111"
   },
   "outputs": [
    {
     "data": {
      "text/plain": [
       "array([10.5, 12. ,  9. , 15. , 11.2])"
      ]
     },
     "execution_count": 7,
     "metadata": {},
     "output_type": "execute_result"
    }
   ],
   "source": [
    "data + 7"
   ]
  },
  {
   "cell_type": "markdown",
   "metadata": {
    "id": "OYnfW8iASqGM"
   },
   "source": [
    "3. **Matrizes:** Representam duas dimensões."
   ]
  },
  {
   "cell_type": "code",
   "execution_count": 8,
   "metadata": {
    "id": "UmJXKOU1SqGM",
    "outputId": "ca4e81e4-cb54-4a82-f6c1-d6887a91ac96"
   },
   "outputs": [
    {
     "data": {
      "text/plain": [
       "array([[2, 4],\n",
       "       [1, 3]])"
      ]
     },
     "execution_count": 8,
     "metadata": {},
     "output_type": "execute_result"
    }
   ],
   "source": [
    "X = np.array([[2, 4],\n",
    "              [1, 3]])\n",
    "X"
   ]
  },
  {
   "cell_type": "markdown",
   "metadata": {
    "id": "FGuAQZk1SqGM"
   },
   "source": [
    "Podemos indexar as matrizes e os vetores."
   ]
  },
  {
   "cell_type": "code",
   "execution_count": 9,
   "metadata": {
    "id": "k5Qj5FCISqGN",
    "outputId": "f2a4ee27-9f26-4b2f-a962-6ed260263126"
   },
   "outputs": [
    {
     "data": {
      "text/plain": [
       "3.5"
      ]
     },
     "execution_count": 9,
     "metadata": {},
     "output_type": "execute_result"
    }
   ],
   "source": [
    "data[0]"
   ]
  },
  {
   "cell_type": "code",
   "execution_count": 10,
   "metadata": {
    "id": "VVSCEDKESqGN",
    "outputId": "bfbab1df-17a8-4241-bcce-6a94fea63e31"
   },
   "outputs": [
    {
     "data": {
      "text/plain": [
       "4"
      ]
     },
     "execution_count": 10,
     "metadata": {},
     "output_type": "execute_result"
    }
   ],
   "source": [
    "X[0, 1] # aqui é primeira linha, segunda coluna"
   ]
  },
  {
   "cell_type": "markdown",
   "metadata": {
    "id": "GMgYvaY9SqGN"
   },
   "source": [
    "Podemos também criar vetores/matrizes de números aleatórios"
   ]
  },
  {
   "cell_type": "code",
   "execution_count": 11,
   "metadata": {
    "id": "iV_u8aHRSqGN",
    "outputId": "5ff424ad-51cd-4b57-84a7-3b0264d771bf"
   },
   "outputs": [
    {
     "name": "stdout",
     "output_type": "stream",
     "text": [
      "[[-0.23193389  0.11972636  0.09610239]\n",
      " [-0.26435071  0.03348429  0.25415468]\n",
      " [-0.13775085  0.38196685 -1.95096626]\n",
      " [-0.10887574  0.9766173  -0.94090479]]\n"
     ]
    }
   ],
   "source": [
    "X = np.random.randn(4, 3) # Gera números aleatórios de uma normal\n",
    "print(X)"
   ]
  },
  {
   "cell_type": "markdown",
   "metadata": {
    "id": "0ZA070lhSqGN"
   },
   "source": [
    "### Indexando\n",
    "\n",
    "Pegando a primeira linha"
   ]
  },
  {
   "cell_type": "code",
   "execution_count": 12,
   "metadata": {
    "id": "KrbG-XJ-SqGO",
    "outputId": "0ee58515-3b1d-40e5-bc64-a7c9435ed487"
   },
   "outputs": [
    {
     "data": {
      "text/plain": [
       "array([-0.23193389,  0.11972636,  0.09610239])"
      ]
     },
     "execution_count": 12,
     "metadata": {},
     "output_type": "execute_result"
    }
   ],
   "source": [
    "X[0] # observe que 0 é a linha 1, compare com o X[0, 1] de antes."
   ]
  },
  {
   "cell_type": "code",
   "execution_count": 13,
   "metadata": {
    "id": "jU1L_sRCSqGO",
    "outputId": "56761962-c543-4b3c-f0f1-467d00678cd3"
   },
   "outputs": [
    {
     "data": {
      "text/plain": [
       "array([-0.26435071,  0.03348429,  0.25415468])"
      ]
     },
     "execution_count": 13,
     "metadata": {},
     "output_type": "execute_result"
    }
   ],
   "source": [
    "X[1] # segunda"
   ]
  },
  {
   "cell_type": "code",
   "execution_count": 14,
   "metadata": {
    "id": "nTluTspRSqGO",
    "outputId": "b3f5fb66-6a87-42d0-b4b8-010602a8d7cd"
   },
   "outputs": [
    {
     "data": {
      "text/plain": [
       "array([-0.13775085,  0.38196685, -1.95096626])"
      ]
     },
     "execution_count": 14,
     "metadata": {},
     "output_type": "execute_result"
    }
   ],
   "source": [
    "X[2] # terceira"
   ]
  },
  {
   "cell_type": "markdown",
   "metadata": {
    "id": "uHPFDGTKSqGO"
   },
   "source": [
    "Observe como todos os tipos retornados são `array`. Array é o nome genérico de Numpy para vetores e matrizes. "
   ]
  },
  {
   "cell_type": "markdown",
   "metadata": {
    "id": "uXH6iOzfSqGO"
   },
   "source": [
    "`X[:, c]` pega uma coluna"
   ]
  },
  {
   "cell_type": "code",
   "execution_count": 15,
   "metadata": {
    "id": "QMsJIo6vSqGO",
    "outputId": "b7d87b23-f815-46d3-c878-3c23f0076ae4"
   },
   "outputs": [
    {
     "data": {
      "text/plain": [
       "array([-0.23193389, -0.26435071, -0.13775085, -0.10887574])"
      ]
     },
     "execution_count": 15,
     "metadata": {},
     "output_type": "execute_result"
    }
   ],
   "source": [
    "X[:, 0]"
   ]
  },
  {
   "cell_type": "code",
   "execution_count": 16,
   "metadata": {
    "id": "mz6x61KpSqGP",
    "outputId": "de70ba33-986a-4a9b-c9fc-8fc058f91677"
   },
   "outputs": [
    {
     "data": {
      "text/plain": [
       "array([0.11972636, 0.03348429, 0.38196685, 0.9766173 ])"
      ]
     },
     "execution_count": 16,
     "metadata": {},
     "output_type": "execute_result"
    }
   ],
   "source": [
    "X[:, 1]"
   ]
  },
  {
   "cell_type": "markdown",
   "metadata": {
    "id": "WACnKWfBSqGP"
   },
   "source": [
    "`X[um_vetor]` pega as linhas da matriz. `X[:, um_vetor]` pega as colunas"
   ]
  },
  {
   "cell_type": "code",
   "execution_count": 17,
   "metadata": {
    "id": "TODsQs_kSqGP",
    "outputId": "7c86e947-c939-4b93-9c73-da3963d75d4f"
   },
   "outputs": [
    {
     "data": {
      "text/plain": [
       "array([[-0.23193389,  0.11972636,  0.09610239],\n",
       "       [-0.23193389,  0.11972636,  0.09610239],\n",
       "       [-0.26435071,  0.03348429,  0.25415468]])"
      ]
     },
     "execution_count": 17,
     "metadata": {},
     "output_type": "execute_result"
    }
   ],
   "source": [
    "X[[0, 0, 1]] # observe que pego a primeira linha, indexada por 0, duas vezes"
   ]
  },
  {
   "cell_type": "markdown",
   "metadata": {
    "id": "jWWbMLwuSqGP"
   },
   "source": [
    "Abaixo pego a segunda a primeira coluna"
   ]
  },
  {
   "cell_type": "code",
   "execution_count": 18,
   "metadata": {
    "id": "a9VwsXffSqGP",
    "outputId": "2962e170-b09c-467f-eef8-bd8c33a8aa42"
   },
   "outputs": [
    {
     "data": {
      "text/plain": [
       "array([[ 0.11972636, -0.23193389],\n",
       "       [ 0.03348429, -0.26435071],\n",
       "       [ 0.38196685, -0.13775085],\n",
       "       [ 0.9766173 , -0.10887574]])"
      ]
     },
     "execution_count": 18,
     "metadata": {},
     "output_type": "execute_result"
    }
   ],
   "source": [
    "X[:, [1, 0]]"
   ]
  },
  {
   "cell_type": "markdown",
   "metadata": {
    "id": "dEPlic4hSqGP"
   },
   "source": [
    "### Indexação Booleana\n",
    "\n",
    "`X[vetor_booleano]` retorna as linhas (ou colunas quando X[:, vetor_booleano]) onde o vetor é true"
   ]
  },
  {
   "cell_type": "code",
   "execution_count": 19,
   "metadata": {
    "id": "4Awn-XHrSqGQ",
    "outputId": "e6d7c5b4-c6c4-4dac-b51d-4a1512d3e448"
   },
   "outputs": [
    {
     "data": {
      "text/plain": [
       "array([[-0.23193389,  0.11972636,  0.09610239],\n",
       "       [-0.13775085,  0.38196685, -1.95096626]])"
      ]
     },
     "execution_count": 19,
     "metadata": {},
     "output_type": "execute_result"
    }
   ],
   "source": [
    "X[[True, False, True, False]]"
   ]
  },
  {
   "cell_type": "code",
   "execution_count": 20,
   "metadata": {
    "id": "emZ-9egKSqGQ",
    "outputId": "83ce36ed-62ae-4869-837d-c0c135479714"
   },
   "outputs": [
    {
     "data": {
      "text/plain": [
       "array([[ 0.11972636,  0.09610239],\n",
       "       [ 0.03348429,  0.25415468],\n",
       "       [ 0.38196685, -1.95096626],\n",
       "       [ 0.9766173 , -0.94090479]])"
      ]
     },
     "execution_count": 20,
     "metadata": {},
     "output_type": "execute_result"
    }
   ],
   "source": [
    "X[:, [False, True, True]]"
   ]
  },
  {
   "cell_type": "markdown",
   "metadata": {
    "id": "FBNqA4Y-SqGQ"
   },
   "source": [
    "### Reshape, Flatten e Ravel\n",
    "\n",
    "Todo vetor ou matriz pode ser redimensionado. Observe como uma matriz abaixo de 9x8=72 elementos. Podemos redimensionar os mesmos para outros arrays de tamanho 72."
   ]
  },
  {
   "cell_type": "code",
   "execution_count": 21,
   "metadata": {
    "id": "vWF0pjPWSqGR"
   },
   "outputs": [],
   "source": [
    "X = np.random.randn(9, 8)"
   ]
  },
  {
   "cell_type": "markdown",
   "metadata": {
    "id": "tLjbTdOdSqGR"
   },
   "source": [
    "Criando uma matriz de 18x4."
   ]
  },
  {
   "cell_type": "code",
   "execution_count": 22,
   "metadata": {
    "id": "HQ10sNn4SqGR",
    "outputId": "054e13f7-7186-4170-91e1-ab915f649c14"
   },
   "outputs": [
    {
     "data": {
      "text/plain": [
       "array([[-1.49904093,  0.72168899, -0.16057452,  1.27058192],\n",
       "       [ 0.02815161, -1.62869895,  0.72827417,  0.42801307],\n",
       "       [ 0.61495554, -0.53069792, -1.27898731,  0.34741326],\n",
       "       [ 2.05701407, -0.99741183,  0.42434074, -0.68415091],\n",
       "       [ 1.69238121,  0.60490331,  0.79254717,  1.8137439 ],\n",
       "       [ 1.63064487, -0.20306182, -0.92929631,  0.28950094],\n",
       "       [-0.91927597, -0.91342161, -0.55891431,  0.68011667],\n",
       "       [-1.41288564, -0.05851593, -0.01452829, -0.69455233],\n",
       "       [ 0.24964669, -0.24739561,  0.5985694 ,  0.15014807],\n",
       "       [-0.48267741, -0.44525494, -2.24598815,  1.574432  ],\n",
       "       [-0.84287715,  1.26228073, -0.68646254, -2.13030249],\n",
       "       [-0.70412978,  1.84419241,  1.91475183, -1.1911388 ],\n",
       "       [ 0.11515697, -0.30219399, -0.15082677, -0.68544954],\n",
       "       [-0.75754678,  1.44010937, -0.11137022,  1.78899885],\n",
       "       [-0.4011518 ,  0.33969351, -1.20739073,  0.34132843],\n",
       "       [ 1.02151027, -0.31791804,  1.51536712, -0.01221378],\n",
       "       [ 1.3484632 ,  0.80939238, -0.90176757, -0.15097837],\n",
       "       [-1.79004598,  0.37507856,  0.1289453 , -0.90810374]])"
      ]
     },
     "execution_count": 22,
     "metadata": {},
     "output_type": "execute_result"
    }
   ],
   "source": [
    "X.reshape((18, 4))"
   ]
  },
  {
   "cell_type": "markdown",
   "metadata": {
    "id": "aFE0kCluSqGR"
   },
   "source": [
    "Ou um vetor de 72"
   ]
  },
  {
   "cell_type": "code",
   "execution_count": 23,
   "metadata": {
    "id": "G7MfAgtrSqGS",
    "outputId": "f85abba7-315b-484f-c94a-0e0604c5df9d"
   },
   "outputs": [
    {
     "data": {
      "text/plain": [
       "array([-1.49904093,  0.72168899, -0.16057452,  1.27058192,  0.02815161,\n",
       "       -1.62869895,  0.72827417,  0.42801307,  0.61495554, -0.53069792,\n",
       "       -1.27898731,  0.34741326,  2.05701407, -0.99741183,  0.42434074,\n",
       "       -0.68415091,  1.69238121,  0.60490331,  0.79254717,  1.8137439 ,\n",
       "        1.63064487, -0.20306182, -0.92929631,  0.28950094, -0.91927597,\n",
       "       -0.91342161, -0.55891431,  0.68011667, -1.41288564, -0.05851593,\n",
       "       -0.01452829, -0.69455233,  0.24964669, -0.24739561,  0.5985694 ,\n",
       "        0.15014807, -0.48267741, -0.44525494, -2.24598815,  1.574432  ,\n",
       "       -0.84287715,  1.26228073, -0.68646254, -2.13030249, -0.70412978,\n",
       "        1.84419241,  1.91475183, -1.1911388 ,  0.11515697, -0.30219399,\n",
       "       -0.15082677, -0.68544954, -0.75754678,  1.44010937, -0.11137022,\n",
       "        1.78899885, -0.4011518 ,  0.33969351, -1.20739073,  0.34132843,\n",
       "        1.02151027, -0.31791804,  1.51536712, -0.01221378,  1.3484632 ,\n",
       "        0.80939238, -0.90176757, -0.15097837, -1.79004598,  0.37507856,\n",
       "        0.1289453 , -0.90810374])"
      ]
     },
     "execution_count": 23,
     "metadata": {},
     "output_type": "execute_result"
    }
   ],
   "source": [
    "X.reshape(72)"
   ]
  },
  {
   "cell_type": "markdown",
   "metadata": {
    "id": "y1YwxeclSqGS"
   },
   "source": [
    "A chamada flatten e ravel faz a mesma coisa, criam uma visão de uma dimensão da matriz."
   ]
  },
  {
   "cell_type": "code",
   "execution_count": 24,
   "metadata": {
    "id": "0EcyCnA4SqGS",
    "outputId": "622c3dce-2504-4f1a-88f8-42469a01c89d"
   },
   "outputs": [
    {
     "data": {
      "text/plain": [
       "array([-1.49904093,  0.72168899, -0.16057452,  1.27058192,  0.02815161,\n",
       "       -1.62869895,  0.72827417,  0.42801307,  0.61495554, -0.53069792,\n",
       "       -1.27898731,  0.34741326,  2.05701407, -0.99741183,  0.42434074,\n",
       "       -0.68415091,  1.69238121,  0.60490331,  0.79254717,  1.8137439 ,\n",
       "        1.63064487, -0.20306182, -0.92929631,  0.28950094, -0.91927597,\n",
       "       -0.91342161, -0.55891431,  0.68011667, -1.41288564, -0.05851593,\n",
       "       -0.01452829, -0.69455233,  0.24964669, -0.24739561,  0.5985694 ,\n",
       "        0.15014807, -0.48267741, -0.44525494, -2.24598815,  1.574432  ,\n",
       "       -0.84287715,  1.26228073, -0.68646254, -2.13030249, -0.70412978,\n",
       "        1.84419241,  1.91475183, -1.1911388 ,  0.11515697, -0.30219399,\n",
       "       -0.15082677, -0.68544954, -0.75754678,  1.44010937, -0.11137022,\n",
       "        1.78899885, -0.4011518 ,  0.33969351, -1.20739073,  0.34132843,\n",
       "        1.02151027, -0.31791804,  1.51536712, -0.01221378,  1.3484632 ,\n",
       "        0.80939238, -0.90176757, -0.15097837, -1.79004598,  0.37507856,\n",
       "        0.1289453 , -0.90810374])"
      ]
     },
     "execution_count": 24,
     "metadata": {},
     "output_type": "execute_result"
    }
   ],
   "source": [
    "X.flatten()"
   ]
  },
  {
   "cell_type": "code",
   "execution_count": 25,
   "metadata": {
    "id": "YnzQqMzJSqGS",
    "outputId": "81ce3407-3dcc-4cae-e974-fc9d8643f019"
   },
   "outputs": [
    {
     "data": {
      "text/plain": [
       "array([-1.49904093,  0.72168899, -0.16057452,  1.27058192,  0.02815161,\n",
       "       -1.62869895,  0.72827417,  0.42801307,  0.61495554, -0.53069792,\n",
       "       -1.27898731,  0.34741326,  2.05701407, -0.99741183,  0.42434074,\n",
       "       -0.68415091,  1.69238121,  0.60490331,  0.79254717,  1.8137439 ,\n",
       "        1.63064487, -0.20306182, -0.92929631,  0.28950094, -0.91927597,\n",
       "       -0.91342161, -0.55891431,  0.68011667, -1.41288564, -0.05851593,\n",
       "       -0.01452829, -0.69455233,  0.24964669, -0.24739561,  0.5985694 ,\n",
       "        0.15014807, -0.48267741, -0.44525494, -2.24598815,  1.574432  ,\n",
       "       -0.84287715,  1.26228073, -0.68646254, -2.13030249, -0.70412978,\n",
       "        1.84419241,  1.91475183, -1.1911388 ,  0.11515697, -0.30219399,\n",
       "       -0.15082677, -0.68544954, -0.75754678,  1.44010937, -0.11137022,\n",
       "        1.78899885, -0.4011518 ,  0.33969351, -1.20739073,  0.34132843,\n",
       "        1.02151027, -0.31791804,  1.51536712, -0.01221378,  1.3484632 ,\n",
       "        0.80939238, -0.90176757, -0.15097837, -1.79004598,  0.37507856,\n",
       "        0.1289453 , -0.90810374])"
      ]
     },
     "execution_count": 25,
     "metadata": {},
     "output_type": "execute_result"
    }
   ],
   "source": [
    "X.ravel()"
   ]
  },
  {
   "cell_type": "markdown",
   "metadata": {
    "id": "kc7RJ16iSqGT"
   },
   "source": [
    "As funções incorporadas ao NumPy podem ser facilmente chamadas em matrizes. A maioria das funções são aplicadas a um elemento de array (como a multiplicação escalar). Por exemplo, se chamarmos `log()` em um array, o logaritmo será obtido de cada elemento. "
   ]
  },
  {
   "cell_type": "code",
   "execution_count": 26,
   "metadata": {
    "id": "yNS1O082SqGT",
    "outputId": "6b357edf-c683-4a7c-dcf4-8a18808c10a6"
   },
   "outputs": [
    {
     "data": {
      "text/plain": [
       "array([1.25276297, 1.60943791, 0.69314718, 2.07944154, 1.43508453])"
      ]
     },
     "execution_count": 26,
     "metadata": {},
     "output_type": "execute_result"
    }
   ],
   "source": [
    "np.log(data)"
   ]
  },
  {
   "cell_type": "markdown",
   "metadata": {
    "id": "5_OaDYinSqGT"
   },
   "source": [
    "Mean tira a média"
   ]
  },
  {
   "cell_type": "code",
   "execution_count": 27,
   "metadata": {
    "id": "aVGdtZ05SqGT",
    "outputId": "555ca608-5b37-4373-87f7-c0504768c0ff"
   },
   "outputs": [
    {
     "data": {
      "text/plain": [
       "4.54"
      ]
     },
     "execution_count": 27,
     "metadata": {},
     "output_type": "execute_result"
    }
   ],
   "source": [
    "np.mean(data)"
   ]
  },
  {
   "cell_type": "markdown",
   "metadata": {
    "id": "-5QBX36QSqGT"
   },
   "source": [
    "Algumas funções podem ser chamadas direto no vetor, nem todas serão assim. O importante é ler a [documentação](http://numpy.org) e aprender. Com um pouco de prática você vai se acostumando."
   ]
  },
  {
   "cell_type": "code",
   "execution_count": 28,
   "metadata": {
    "id": "d1qpNQjuSqGT",
    "outputId": "9ab3a277-4e9b-49b8-9a92-e28b1fd7970a"
   },
   "outputs": [
    {
     "data": {
      "text/plain": [
       "4.54"
      ]
     },
     "execution_count": 28,
     "metadata": {},
     "output_type": "execute_result"
    }
   ],
   "source": [
    "data.mean()"
   ]
  },
  {
   "cell_type": "markdown",
   "metadata": {
    "id": "gAJNqMeYSqGT"
   },
   "source": [
    "Abaixo temos a mediana,"
   ]
  },
  {
   "cell_type": "code",
   "execution_count": 29,
   "metadata": {
    "id": "800eFq9OSqGT",
    "outputId": "ec8eaced-5c70-494a-baa9-1b36784e9b44"
   },
   "outputs": [
    {
     "data": {
      "text/plain": [
       "4.2"
      ]
     },
     "execution_count": 29,
     "metadata": {},
     "output_type": "execute_result"
    }
   ],
   "source": [
    "np.median(data) # por exemplo, não existe data.median(). Faz sentido? Não. Mas é assim."
   ]
  },
  {
   "cell_type": "markdown",
   "metadata": {
    "id": "Z9xKOq1aSqGT"
   },
   "source": [
    "Em matrizes as funções operam em todos os elemntos."
   ]
  },
  {
   "cell_type": "code",
   "execution_count": 30,
   "metadata": {
    "id": "zEr9-KezSqGU",
    "outputId": "44c8c4a4-8306-4e56-aab0-d704e26f4626"
   },
   "outputs": [
    {
     "data": {
      "text/plain": [
       "-0.03652211039102192"
      ]
     },
     "execution_count": 30,
     "metadata": {},
     "output_type": "execute_result"
    }
   ],
   "source": [
    "np.median(X)"
   ]
  },
  {
   "cell_type": "code",
   "execution_count": 31,
   "metadata": {
    "id": "Z-FmFd0FSqGU",
    "outputId": "1c29bde3-db1c-4f6d-dd1a-7d517c18c8d3"
   },
   "outputs": [
    {
     "data": {
      "text/plain": [
       "0.024793580580330172"
      ]
     },
     "execution_count": 31,
     "metadata": {},
     "output_type": "execute_result"
    }
   ],
   "source": [
    "X.mean()"
   ]
  },
  {
   "cell_type": "code",
   "execution_count": 32,
   "metadata": {
    "id": "9fiZINk_SqGU",
    "outputId": "2b346377-d67d-4b49-8e8b-3db94669bf98"
   },
   "outputs": [
    {
     "data": {
      "text/plain": [
       "array([[2.14017899, 2.3722687 , 2.28639732, 2.42219596, 2.3053963 ,\n",
       "        2.12480931, 2.3728827 , 2.34449575],\n",
       "       [2.36226391, 2.24805521, 2.16573536, 2.33673656, 2.48964657,\n",
       "        2.19751211, 2.34414353, 2.23171715],\n",
       "       [2.45893745, 2.36131647, 2.37885582, 2.46926359, 2.45364341,\n",
       "        2.28206991, 2.20504985, 2.33112405],\n",
       "       [2.20615393, 2.20679842, 2.24507098, 2.36838376, 2.15026275,\n",
       "        2.29671631, 2.30113121, 2.2306    ],\n",
       "       [2.32724324, 2.27753437, 2.36071903, 2.31748829, 2.25311357,\n",
       "        2.2570379 , 2.04821037, 2.44879853],\n",
       "       [2.21453203, 2.42145915, 2.23146898, 2.06301963, 2.22957024,\n",
       "        2.47183766, 2.47777728, 2.17575817],\n",
       "       [2.31403499, 2.27189968, 2.28738752, 2.23157774, 2.22380735,\n",
       "        2.43712555, 2.29138559, 2.4671668 ],\n",
       "       [2.26164311, 2.33599023, 2.17391151, 2.33614834, 2.39984884,\n",
       "        2.27027696, 2.44368241, 2.30136297],\n",
       "       [2.42908233, 2.38041542, 2.20808016, 2.28737212, 2.10534732,\n",
       "        2.33940664, 2.3153972 , 2.2073835 ]])"
      ]
     },
     "execution_count": 32,
     "metadata": {},
     "output_type": "execute_result"
    }
   ],
   "source": [
    "np.log(X + 10)"
   ]
  },
  {
   "cell_type": "markdown",
   "metadata": {
    "id": "MoTi0Y4lSqGU"
   },
   "source": [
    "Porém, caso você queira a media de linhas ou colunas use `axis`. Antes, vamos ver o tamanho do vetor."
   ]
  },
  {
   "cell_type": "code",
   "execution_count": 33,
   "metadata": {
    "id": "x2eOmAvwSqGU",
    "outputId": "94bb9ca7-ef8c-446a-ea83-d2f0dae10583"
   },
   "outputs": [
    {
     "data": {
      "text/plain": [
       "(9, 8)"
      ]
     },
     "execution_count": 33,
     "metadata": {},
     "output_type": "execute_result"
    }
   ],
   "source": [
    "X.shape"
   ]
  },
  {
   "cell_type": "code",
   "execution_count": 34,
   "metadata": {
    "id": "EBDPYwbuSqGU",
    "outputId": "c6b3f01d-d3b0-42ad-9921-1c474534302a"
   },
   "outputs": [
    {
     "data": {
      "text/plain": [
       "array([ 0.03980642,  0.19380553, -0.39486746,  0.18184465, -0.04555164,\n",
       "        0.00094654,  0.1567218 ,  0.06564281])"
      ]
     },
     "execution_count": 34,
     "metadata": {},
     "output_type": "execute_result"
    }
   ],
   "source": [
    "np.mean(X, axis=0) # média das colunas. como temos 8 colunas, temos 8 elementos."
   ]
  },
  {
   "cell_type": "code",
   "execution_count": 35,
   "metadata": {
    "id": "TSXD_iUjSqGU",
    "outputId": "53f1932d-52fa-4a31-ab65-02666e7648e4"
   },
   "outputs": [
    {
     "data": {
      "text/plain": [
       "(8,)"
      ]
     },
     "execution_count": 35,
     "metadata": {},
     "output_type": "execute_result"
    }
   ],
   "source": [
    "np.mean(X, axis=0).shape"
   ]
  },
  {
   "cell_type": "code",
   "execution_count": 36,
   "metadata": {
    "id": "lZtLtkP3SqGV",
    "outputId": "02f07514-4383-4216-a4ef-7f442c18d852"
   },
   "outputs": [
    {
     "data": {
      "text/plain": [
       "array([-0.01395058, -0.00594055,  0.71142041, -0.48649718, -0.10606499,\n",
       "       -0.06671072,  0.16710974,  0.15990312, -0.13612703])"
      ]
     },
     "execution_count": 36,
     "metadata": {},
     "output_type": "execute_result"
    }
   ],
   "source": [
    "np.mean(X, axis=1) # média das linhas"
   ]
  },
  {
   "cell_type": "code",
   "execution_count": 37,
   "metadata": {
    "id": "40oIxRIoSqGV",
    "outputId": "f187c024-bda2-4244-a484-96fd4a6be1e9"
   },
   "outputs": [
    {
     "data": {
      "text/plain": [
       "(9,)"
      ]
     },
     "execution_count": 37,
     "metadata": {},
     "output_type": "execute_result"
    }
   ],
   "source": [
    "np.mean(X, axis=1).shape"
   ]
  },
  {
   "cell_type": "markdown",
   "metadata": {
    "id": "588RFv-kSqGV"
   },
   "source": [
    "Lembre-se que eixo 0 é coluna. Eixo 1 é linas."
   ]
  },
  {
   "cell_type": "markdown",
   "metadata": {
    "id": "MedL9JlGSqGV"
   },
   "source": [
    "### Multiplicação de Matrizes"
   ]
  },
  {
   "cell_type": "markdown",
   "metadata": {
    "id": "zppx1I9ZSqGV"
   },
   "source": [
    "Para transpor uma matriz fazemos uso de .T"
   ]
  },
  {
   "cell_type": "code",
   "execution_count": 38,
   "metadata": {
    "id": "gDqUrBc_SqGV",
    "outputId": "672d3e3a-8c9a-4d1c-8e25-a830cbfdafb3"
   },
   "outputs": [
    {
     "data": {
      "text/plain": [
       "(9, 8)"
      ]
     },
     "execution_count": 38,
     "metadata": {},
     "output_type": "execute_result"
    }
   ],
   "source": [
    "X.shape"
   ]
  },
  {
   "cell_type": "code",
   "execution_count": 39,
   "metadata": {
    "id": "oa1O6eI1SqGV",
    "outputId": "373932b6-3687-4b70-a636-1491b85785ef"
   },
   "outputs": [
    {
     "data": {
      "text/plain": [
       "(8, 9)"
      ]
     },
     "execution_count": 39,
     "metadata": {},
     "output_type": "execute_result"
    }
   ],
   "source": [
    "X.T.shape"
   ]
  },
  {
   "cell_type": "code",
   "execution_count": 40,
   "metadata": {
    "id": "izl3t-kuSqGV",
    "outputId": "32d2d1e1-ad57-4514-d253-a0f0adbc3c65"
   },
   "outputs": [
    {
     "data": {
      "text/plain": [
       "array([[-1.49904093,  0.61495554,  1.69238121, -0.91927597,  0.24964669,\n",
       "        -0.84287715,  0.11515697, -0.4011518 ,  1.3484632 ],\n",
       "       [ 0.72168899, -0.53069792,  0.60490331, -0.91342161, -0.24739561,\n",
       "         1.26228073, -0.30219399,  0.33969351,  0.80939238],\n",
       "       [-0.16057452, -1.27898731,  0.79254717, -0.55891431,  0.5985694 ,\n",
       "        -0.68646254, -0.15082677, -1.20739073, -0.90176757],\n",
       "       [ 1.27058192,  0.34741326,  1.8137439 ,  0.68011667,  0.15014807,\n",
       "        -2.13030249, -0.68544954,  0.34132843, -0.15097837],\n",
       "       [ 0.02815161,  2.05701407,  1.63064487, -1.41288564, -0.48267741,\n",
       "        -0.70412978, -0.75754678,  1.02151027, -1.79004598],\n",
       "       [-1.62869895, -0.99741183, -0.20306182, -0.05851593, -0.44525494,\n",
       "         1.84419241,  1.44010937, -0.31791804,  0.37507856],\n",
       "       [ 0.72827417,  0.42434074, -0.92929631, -0.01452829, -2.24598815,\n",
       "         1.91475183, -0.11137022,  1.51536712,  0.1289453 ],\n",
       "       [ 0.42801307, -0.68415091,  0.28950094, -0.69455233,  1.574432  ,\n",
       "        -1.1911388 ,  1.78899885, -0.01221378, -0.90810374]])"
      ]
     },
     "execution_count": 40,
     "metadata": {},
     "output_type": "execute_result"
    }
   ],
   "source": [
    "X.T"
   ]
  },
  {
   "cell_type": "markdown",
   "metadata": {
    "id": "osnVqg2gSqGV"
   },
   "source": [
    "Para multiplicar matrizes, do ponto de visto de multiplicação matricial como definido na álgebra linear, fazemos uso de `@`."
   ]
  },
  {
   "cell_type": "code",
   "execution_count": 41,
   "metadata": {
    "id": "L123ne6XSqGW",
    "outputId": "df57b6d7-9737-46ab-f8dd-3f2bcf091a01"
   },
   "outputs": [
    {
     "data": {
      "text/plain": [
       "array([[ 7.77515254,  1.04055014, -0.09938977,  1.42038908, -0.70833244,\n",
       "        -2.56082929, -2.91963987,  3.11898295, -2.44035692],\n",
       "       [ 1.04055014,  8.29057989,  3.30057425, -1.50838456, -3.00757034,\n",
       "        -2.71073845, -4.07990921,  4.30559856, -1.87966136],\n",
       "       [-0.09938977,  3.30057425, 10.79549936, -3.79731046,  2.86589845,\n",
       "        -8.71766705, -2.25698412, -0.49273526, -1.59463019],\n",
       "       [ 1.42038908, -1.50838456, -3.79731046,  4.93663519, -0.58882105,\n",
       "         0.24309209, -0.46659459, -0.4727496 ,  1.55843599],\n",
       "       [-0.70833244, -3.00757034,  2.86589845, -0.58882105,  8.45888617,\n",
       "        -7.9106057 ,  2.70153895, -4.62987395, -1.44838836],\n",
       "       [-2.56082929, -2.71073845, -8.71766705,  0.24309209, -7.9106057 ,\n",
       "        16.29514467,  1.93029269,  2.4791284 ,  4.10646839],\n",
       "       [-2.91963987, -4.07990921, -2.25698412, -0.46659459,  2.70153895,\n",
       "         1.93029269,  6.45788445, -1.62300109,  0.40743067],\n",
       "       [ 3.11898295,  4.30559856, -0.49273526, -0.4727496 , -4.62987395,\n",
       "         2.4791284 , -1.62300109,  5.29165368, -0.97004425],\n",
       "       [-2.44035692, -1.87966136, -1.59463019,  1.55843599, -1.44838836,\n",
       "         4.10646839,  0.40743067, -0.97004425,  7.49567605]])"
      ]
     },
     "execution_count": 41,
     "metadata": {},
     "output_type": "execute_result"
    }
   ],
   "source": [
    "X @ X.T"
   ]
  },
  {
   "cell_type": "markdown",
   "metadata": {
    "id": "9-aHyOoXSqGW"
   },
   "source": [
    "O uso de `*` realiza uma operação ponto a ponto"
   ]
  },
  {
   "cell_type": "code",
   "execution_count": 42,
   "metadata": {
    "id": "C8ZMXmsWSqGW",
    "outputId": "8068c644-b5ba-44ba-8295-8f82ca17c37f"
   },
   "outputs": [
    {
     "data": {
      "text/plain": [
       "array([[2.24712370e+00, 5.20835005e-01, 2.57841753e-02, 1.61437842e+00,\n",
       "        7.92513198e-04, 2.65266027e+00, 5.30383265e-01, 1.83195189e-01],\n",
       "       [3.78170311e-01, 2.81640280e-01, 1.63580855e+00, 1.20695970e-01,\n",
       "        4.23130689e+00, 9.94830357e-01, 1.80065066e-01, 4.68062465e-01],\n",
       "       [2.86415417e+00, 3.65908019e-01, 6.28131009e-01, 3.28966694e+00,\n",
       "        2.65900269e+00, 4.12341023e-02, 8.63591638e-01, 8.38107935e-02],\n",
       "       [8.45068303e-01, 8.34339034e-01, 3.12385203e-01, 4.62558684e-01,\n",
       "        1.99624584e+00, 3.42411358e-03, 2.11071353e-04, 4.82402936e-01],\n",
       "       [6.23234695e-02, 6.12045901e-02, 3.58285332e-01, 2.25444418e-02,\n",
       "        2.32977483e-01, 1.98251962e-01, 5.04446276e+00, 2.47883614e+00],\n",
       "       [7.10441885e-01, 1.59335264e+00, 4.71230820e-01, 4.53818872e+00,\n",
       "        4.95798750e-01, 3.40104563e+00, 3.66627459e+00, 1.41881164e+00],\n",
       "       [1.32611277e-02, 9.13212071e-02, 2.27487146e-02, 4.69841066e-01,\n",
       "        5.73877125e-01, 2.07391499e+00, 1.24033248e-02, 3.20051689e+00],\n",
       "       [1.60922764e-01, 1.15391683e-01, 1.45779236e+00, 1.16505098e-01,\n",
       "        1.04348322e+00, 1.01071878e-01, 2.29633750e+00, 1.49176357e-04],\n",
       "       [1.81835300e+00, 6.55116024e-01, 8.13184752e-01, 2.27944670e-02,\n",
       "        3.20426459e+00, 1.40683928e-01, 1.66268893e-02, 8.24652396e-01]])"
      ]
     },
     "execution_count": 42,
     "metadata": {},
     "output_type": "execute_result"
    }
   ],
   "source": [
    "X * X"
   ]
  },
  {
   "cell_type": "markdown",
   "metadata": {
    "id": "Hsz75ojTSqGW"
   },
   "source": [
    "Observe a diferença de tamanhos"
   ]
  },
  {
   "cell_type": "code",
   "execution_count": 43,
   "metadata": {
    "id": "COtf221WSqGW",
    "outputId": "fdbf25cc-c5fd-4a52-8635-087bbbfefb39"
   },
   "outputs": [
    {
     "data": {
      "text/plain": [
       "(9, 8)"
      ]
     },
     "execution_count": 43,
     "metadata": {},
     "output_type": "execute_result"
    }
   ],
   "source": [
    "(X * X).shape"
   ]
  },
  {
   "cell_type": "code",
   "execution_count": 44,
   "metadata": {
    "id": "LcTRhyCRSqGW",
    "outputId": "51bdee4e-ab81-4173-c3bf-ddf434a514b1"
   },
   "outputs": [
    {
     "data": {
      "text/plain": [
       "(9, 9)"
      ]
     },
     "execution_count": 44,
     "metadata": {},
     "output_type": "execute_result"
    }
   ],
   "source": [
    "(X @ X.T).shape"
   ]
  },
  {
   "cell_type": "markdown",
   "metadata": {
    "id": "PV3tPMBuSqGW"
   },
   "source": [
    "**Pense:** Para o nosso `X` de tamanho `(9, 8)`, qual o motivo de `X * X.T` não funcionar? Qual o motivo de `X @ X` não funcionar?"
   ]
  },
  {
   "cell_type": "markdown",
   "metadata": {
    "id": "KTgcYcsgSqGW"
   },
   "source": [
    "## Correção Automática\n",
    "\n",
    "Nossa correção automática depende das funções abaixo. Tais funções comparam valores que serão computados pelo seu código com uma saída esperada. Normalmente, vocês não fazer uso de tais funções em notebooks como este. Porém, elas são chave em ambientes de testes automáticos (fora do nosso escopo).\n",
    "\n",
    "Observe como algumas funções comparam valores e outras comparam vetores. Além do mais, temos funções para comparar dentro de algumas casas decimais."
   ]
  },
  {
   "cell_type": "code",
   "execution_count": 45,
   "metadata": {
    "id": "qT00e5P3SqGW"
   },
   "outputs": [],
   "source": [
    "from numpy.testing import assert_almost_equal\n",
    "from numpy.testing import assert_equal\n",
    "\n",
    "from numpy.testing import assert_array_almost_equal\n",
    "from numpy.testing import assert_array_equal"
   ]
  },
  {
   "cell_type": "code",
   "execution_count": 46,
   "metadata": {
    "id": "QrKdwE0-SqGW"
   },
   "outputs": [],
   "source": [
    "# caso você mude um dos valores vamos receber um erro!\n",
    "assert_array_equal(2, 2)\n",
    "\n",
    "# caso você mude um dos valores vamos receber um erro!\n",
    "assert_array_equal([1, 2], [1, 2])\n",
    "\n",
    "# caso você mude um dos valores vamos receber um erro!\n",
    "assert_almost_equal(3.1415, 3.14, 1)"
   ]
  },
  {
   "cell_type": "markdown",
   "metadata": {
    "id": "yHYXMVpESqGW"
   },
   "source": [
    "Caso você mude um dos valores abaixo vamos receber um erro! Como o abaixo.\n",
    "\n",
    "```\n",
    "-----------------------------------------------------------------------\n",
    "AssertionError                        Traceback (most recent call last)\n",
    "<ipython-input-10-396672d880f2> in <module>\n",
    "----> 1 assert_equal(2, 3) # caso você mude um dos valores vamos receber um erro!\n",
    "\n",
    "~/miniconda3/lib/python3.7/site-packages/numpy/testing/_private/utils.py in assert_equal(actual, desired, err_msg, verbose)\n",
    "    413         # Explicitly use __eq__ for comparison, gh-2552\n",
    "    414         if not (desired == actual):\n",
    "--> 415             raise AssertionError(msg)\n",
    "    416 \n",
    "    417     except (DeprecationWarning, FutureWarning) as e:\n",
    "\n",
    "AssertionError: \n",
    "Items are not equal:\n",
    " ACTUAL: 2\n",
    " DESIRED: 3\n",
    " ```"
   ]
  },
  {
   "cell_type": "markdown",
   "metadata": {
    "id": "NXlblJaISqGW"
   },
   "source": [
    "É essencial que todo seu código execute sem erros! Portanto, antes de submeter clique em `Kernel` no menu acima. Depois clique em `Restart & Execute All.`\n",
    "\n",
    "**Garanta que o notebook executa até o fim!** Isto é, sem erros como o acima."
   ]
  },
  {
   "cell_type": "markdown",
   "metadata": {
    "id": "YdRetQNqSqGW"
   },
   "source": [
    "## Funções em Python"
   ]
  },
  {
   "cell_type": "markdown",
   "metadata": {
    "id": "Nd6vkaRISqGW"
   },
   "source": [
    "Para criar uma função em Python fazemos uso da palavra-chave: \n",
    "```python\n",
    "def\n",
    "```\n",
    "\n",
    "Todos nossos exercícios farão uso de funções. **Mantenha a assinatura das funções exatamente como requisitado, a correção automática depende disso.** Abaixo, temos um exempo de uma função que imprime algo na tela!"
   ]
  },
  {
   "cell_type": "code",
   "execution_count": 47,
   "metadata": {
    "id": "s9pQs09QSqGX"
   },
   "outputs": [],
   "source": [
    "def print_something(txt):\n",
    "    print(f'Você passou o argumento: {txt}')"
   ]
  },
  {
   "cell_type": "code",
   "execution_count": 48,
   "metadata": {
    "id": "gSo9ty_FSqGX",
    "outputId": "45cf6681-0302-45ba-edfe-c010c06b314f"
   },
   "outputs": [
    {
     "name": "stdout",
     "output_type": "stream",
     "text": [
      "Você passou o argumento: DCC 212\n"
     ]
    }
   ],
   "source": [
    "print_something('DCC 212')"
   ]
  },
  {
   "cell_type": "markdown",
   "metadata": {
    "id": "1aen-Om3SqGX"
   },
   "source": [
    "Podemos também dizer o tipo do argumento, porém faremos pouco uso disto em ICD."
   ]
  },
  {
   "cell_type": "code",
   "execution_count": 49,
   "metadata": {
    "id": "F3SHw1xJSqGX"
   },
   "outputs": [],
   "source": [
    "def print_something(txt: str):\n",
    "    print(f'Você passou o argumento: {txt}')"
   ]
  },
  {
   "cell_type": "code",
   "execution_count": 50,
   "metadata": {
    "id": "lqkgPWpuSqGX",
    "outputId": "dbf93098-9674-41b9-db4b-367f56df5efe"
   },
   "outputs": [
    {
     "name": "stdout",
     "output_type": "stream",
     "text": [
      "Você passou o argumento: DCC 212\n"
     ]
    }
   ],
   "source": [
    "print_something('DCC 212')"
   ]
  },
  {
   "cell_type": "markdown",
   "metadata": {
    "id": "YnLicDjGSqGX"
   },
   "source": [
    "Abaixo temos uma função que soma, a soma, dois vetores"
   ]
  },
  {
   "cell_type": "code",
   "execution_count": 51,
   "metadata": {
    "id": "l8lD4v3JSqGX"
   },
   "outputs": [],
   "source": [
    "def sum_of_sum_vectors(array_1, array_2):\n",
    "    return (array_1 + array_2).sum()"
   ]
  },
  {
   "cell_type": "code",
   "execution_count": 52,
   "metadata": {
    "id": "pIBtu_dRSqGX"
   },
   "outputs": [],
   "source": [
    "x = np.array([1, 2])\n",
    "y = np.array([1, 2])"
   ]
  },
  {
   "cell_type": "code",
   "execution_count": 53,
   "metadata": {
    "id": "kmeoxrB0SqGX",
    "outputId": "94a06ab4-9236-4ec1-a94b-752f1ec16086"
   },
   "outputs": [
    {
     "data": {
      "text/plain": [
       "6"
      ]
     },
     "execution_count": 53,
     "metadata": {},
     "output_type": "execute_result"
    }
   ],
   "source": [
    "sum_of_sum_vectors(x, y)"
   ]
  },
  {
   "cell_type": "markdown",
   "metadata": {
    "id": "qd1ENArySqGX"
   },
   "source": [
    "Abaixo temos um teste, tais testes vão avaliar o seu código. Nem todos estão aqui no notebook!"
   ]
  },
  {
   "cell_type": "code",
   "execution_count": 54,
   "metadata": {
    "id": "SVqyCJ6qSqGX"
   },
   "outputs": [],
   "source": [
    "assert_equal(6, sum_of_sum_vectors(x, y))"
   ]
  },
  {
   "cell_type": "markdown",
   "metadata": {
    "id": "YHhER1VHSqGX"
   },
   "source": [
    "## Exercício 01\n",
    "\n",
    "Inicialmente, crie uma função que recebe duas listas de numéros, converte as duas para um vetor numpy usando `np.array` e retorna o produto interno das duas listas. \n",
    "\n",
    "__Dicas:__  \n",
    "1. Tente fazer um código sem nenhum **for**! Ou seja, numpy permite operações em vetores e matrizes, onde: `np.array([1, 2]) + np.array([2, 2]) = np.array([3, 4])`.\n",
    "\n",
    "__Funções:__\n",
    "1. `np.sum(array)` soma os elementos do array. `array.sum()` tem o mesmo efeito!"
   ]
  },
  {
   "cell_type": "code",
   "execution_count": 63,
   "metadata": {
    "id": "9t9UvsGCSqGX"
   },
   "outputs": [],
   "source": [
    "def inner(array_1, array_2):\n",
    "    return np.sum(np.array(array_1) * np.array(array_2))"
   ]
  },
  {
   "cell_type": "code",
   "execution_count": 64,
   "metadata": {
    "id": "xtKjZjlHSqGX",
    "outputId": "050b9247-e745-4301-8a8c-f804f6b8e909"
   },
   "outputs": [],
   "source": [
    "x1 = np.array([2, 4, 8])\n",
    "x2 = np.array([10, 100, 1000])\n",
    "assert_equal(20 + 400 + 8000, inner(x1, x2))"
   ]
  },
  {
   "cell_type": "markdown",
   "metadata": {
    "id": "oK9BMKj5SqGX"
   },
   "source": [
    "## Exercício 02\n",
    "\n",
    "Implemente uma função utilizando numpy que recebe duas matrizes, multiplica as duas e retorne o valor médio das células da multiplicação. Por exemplo, ao multiplicar:\n",
    "\n",
    "```\n",
    "[1 2]\n",
    "[3 4] \n",
    "\n",
    "com \n",
    "\n",
    "[2 1]\n",
    "[1 2]\n",
    "\n",
    "temos\n",
    "\n",
    "[4  5 ]\n",
    "[10 11]\n",
    "\n",
    "onde a média de [4, 5, 10, 11] é\n",
    "\n",
    "7.5, sua resposta final!\n",
    "```\n",
    "\n",
    "\n",
    "__Dicas:__  \n",
    "1. Use o operador @ para multiplicar matrizes!"
   ]
  },
  {
   "cell_type": "code",
   "execution_count": 69,
   "metadata": {
    "id": "0LQQoHdkSqGY"
   },
   "outputs": [],
   "source": [
    "def medmult(X_1, X_2):\n",
    "    return np.mean(np.matmul(X_1, X_2))"
   ]
  },
  {
   "cell_type": "code",
   "execution_count": 70,
   "metadata": {
    "id": "7pNtLKwgSqGY",
    "outputId": "1500b86c-6b20-4444-caac-137e22b83411"
   },
   "outputs": [],
   "source": [
    "X = np.array([1, 2, 3, 4]).reshape(2, 2)\n",
    "Y = np.array([2, 1, 1, 2]).reshape(2, 2)\n",
    "assert_equal(7.5, medmult(X, Y))"
   ]
  }
 ],
 "metadata": {
  "colab": {
   "name": "dcc212l1.ipynb",
   "provenance": []
  },
  "kernelspec": {
   "display_name": "Python 3",
   "language": "python",
   "name": "python3"
  },
  "language_info": {
   "codemirror_mode": {
    "name": "ipython",
    "version": 3
   },
   "file_extension": ".py",
   "mimetype": "text/x-python",
   "name": "python",
   "nbconvert_exporter": "python",
   "pygments_lexer": "ipython3",
   "version": "3.8.8"
  }
 },
 "nbformat": 4,
 "nbformat_minor": 1
}
